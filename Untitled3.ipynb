{
  "nbformat": 4,
  "nbformat_minor": 0,
  "metadata": {
    "colab": {
      "provenance": []
    },
    "kernelspec": {
      "name": "python3",
      "display_name": "Python 3"
    },
    "language_info": {
      "name": "python"
    }
  },
  "cells": [
    {
      "cell_type": "code",
      "execution_count": 5,
      "metadata": {
        "colab": {
          "base_uri": "https://localhost:8080/"
        },
        "id": "w8uTqGyLlYcm",
        "outputId": "c50c419e-377f-4c6a-c5e2-01847a5ff741"
      },
      "outputs": [
        {
          "output_type": "stream",
          "name": "stdout",
          "text": [
            "O somatorio dos elementos pares da lista é: 10\n",
            "O somatorio dos elementos pares da lista é: 12\n",
            "O somatorio dos elementos pares da lista é: 18\n",
            "O somatorio dos elementos pares da lista é: 18\n"
          ]
        }
      ],
      "source": [
        "lista = [10, 2, 5, 7, 6, 3]\n",
        "n=len(lista) #len trás o comprimento que está dentro da lista ex:6 elementos o n é igual a 6 (n=6)\n",
        "soma=0\n",
        "for i in range(n): #gera um intervalo de 0 a 5\n",
        " if(lista[i]%2==0):\n",
        "  soma=soma+lista[i]\n",
        "  print(f'O somatorio dos elementos pares da lista é: {soma}')\n",
        "\n",
        "\n",
        "  #OU\n",
        "\n",
        "lista = [10, 2, 5, 7, 6, 3]\n",
        "soma=0\n",
        "for num in lista:\n",
        " if(num%2==0):\n",
        "  soma=soma+num\n",
        "print(f'O somatorio dos elementos pares da lista é: {soma}')\n",
        "\n",
        "\n",
        "\n",
        ""
      ]
    }
  ]
}